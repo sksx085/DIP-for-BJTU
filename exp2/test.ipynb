{
 "cells": [
  {
   "cell_type": "code",
   "execution_count": 47,
   "metadata": {},
   "outputs": [],
   "source": [
    "import matplotlib.pyplot as plt"
   ]
  },
  {
   "cell_type": "code",
   "execution_count": 48,
   "metadata": {},
   "outputs": [],
   "source": [
    "def parse_bmp(file_path):\n",
    "    with open(file_path, 'rb') as f:\n",
    "        # 读取BMP文件的头部信息\n",
    "        header = f.read(54)  # BMP文件头部固定为54字节\n",
    "\n",
    "        # 提取宽度和高度\n",
    "        width = int.from_bytes(header[18:22], byteorder='little')\n",
    "        height = int.from_bytes(header[22:26], byteorder='little')\n",
    "        bits_per_pixel = int.from_bytes(header[28:30], byteorder='little')\n",
    "        \n",
    "        # 计算每行像素的实际字节大小，包括填充\n",
    "        bytes_per_pixel = bits_per_pixel // 8\n",
    "        bytes_per_row_without_padding = width * bytes_per_pixel\n",
    "        padding = (4 - bytes_per_row_without_padding % 4) % 4\n",
    "        bytes_per_row_with_padding = bytes_per_row_without_padding + padding\n",
    "\n",
    "        # 跳过文件头，移动到像素数据的起始位置\n",
    "        f.seek(54)\n",
    "\n",
    "        # 逐行读取像素数据，考虑行填充\n",
    "        pixel_data = bytearray()\n",
    "        for _ in range(height):\n",
    "            row_data = f.read(bytes_per_row_without_padding)\n",
    "            pixel_data.extend(row_data)\n",
    "            f.seek(padding, 1)  # 跳过行填充\n",
    "        \n",
    "        return header, pixel_data, width, height, padding, bytes_per_pixel\n",
    "\n"
   ]
  },
  {
   "cell_type": "code",
   "execution_count": 49,
   "metadata": {},
   "outputs": [],
   "source": [
    "def calculate_histogram(pixel_data, width, height, bytes_per_pixel, padding):\n",
    "    histogram = [0] * 256\n",
    "    for y in range(height):\n",
    "        for x in range(width):\n",
    "            index = (y * width + x) * bytes_per_pixel + y * padding\n",
    "            # 这里假设图像是灰度的，所以我们只取第一个颜色通道\n",
    "            color = pixel_data[index]\n",
    "            histogram[color] += 1\n",
    "\n",
    "    return histogram\n"
   ]
  },
  {
   "cell_type": "code",
   "execution_count": 50,
   "metadata": {},
   "outputs": [],
   "source": [
    "def equalize_histogram(pixel_data, histogram, width, height, bytes_per_pixel, padding):\n",
    "    # 计算累积直方图（CDF）\n",
    "    cdf = [0] * len(histogram)\n",
    "    cdf_min = None\n",
    "    sum_h = 0\n",
    "    for i, h in enumerate(histogram):\n",
    "        sum_h += h\n",
    "        if cdf_min is None and h > 0:\n",
    "            cdf_min = sum_h\n",
    "        cdf[i] = sum_h\n",
    "    total_pixels = width * height\n",
    "\n",
    "    # 计算直方图均衡化的映射\n",
    "    equalize_map = [0] * 256\n",
    "    for i in range(256):\n",
    "        if cdf[i] > 0:\n",
    "            equalize_map[i] = round((cdf[i] - cdf_min) / (total_pixels - cdf_min) * 255)\n",
    "\n",
    "    # 应用直方图均衡化映射\n",
    "    for y in range(height):\n",
    "        for x in range(width):\n",
    "            index = (y * width + x) * bytes_per_pixel + y * padding\n",
    "            pixel_value = pixel_data[index]\n",
    "            equalized_value = equalize_map[pixel_value]\n",
    "            # 更新像素值\n",
    "            for b in range(bytes_per_pixel):\n",
    "                pixel_data[index + b] = equalized_value\n",
    "\n",
    "    return pixel_data\n",
    "\n"
   ]
  },
  {
   "cell_type": "code",
   "execution_count": 51,
   "metadata": {},
   "outputs": [],
   "source": [
    "def plot_histogram(histogram, title):\n",
    "    plt.bar(range(256), histogram, color='gray')\n",
    "    plt.title(title)\n",
    "    plt.xlabel('Intensity Value')\n",
    "    plt.ylabel('Pixel Count')\n",
    "    plt.xlim([0, 255])\n",
    "    plt.show()\n"
   ]
  },
  {
   "cell_type": "code",
   "execution_count": 52,
   "metadata": {},
   "outputs": [],
   "source": [
    "def save_bmp(output_path, header, pixel_data):\n",
    "    with open(output_path, 'wb') as f:\n",
    "        f.write(header)\n",
    "        f.write(pixel_data)\n"
   ]
  },
  {
   "cell_type": "code",
   "execution_count": 53,
   "metadata": {},
   "outputs": [
    {
     "data": {
      "image/png": "[encoded data removed]",
      "text/plain": [
       "<Figure size 640x480 with 1 Axes>"
      ]
     },
     "metadata": {},
     "output_type": "display_data"
    }
   ],
   "source": [
    " # 解析BMP文件\n",
    "header, pixel_data, width, height, padding, bytes_per_pixel = parse_bmp('/Users/sksx085/Desktop/各种实验报告等狗屎/数字图像处理/converted_image.bmp')\n",
    "\n",
    "# 计算处理前的直方图\n",
    "original_histogram = calculate_histogram(pixel_data, width, height, bytes_per_pixel, padding)\n",
    "\n",
    "# 应用直方图均衡化\n",
    "equalized_pixel_data = equalize_histogram(pixel_data, original_histogram, width, height, bytes_per_pixel, padding)\n",
    "\n",
    "# 计算处理后的直方图\n",
    "equalized_histogram = calculate_histogram(equalized_pixel_data, width, height, bytes_per_pixel, padding)\n",
    "\n",
    "# 保存处理后的图像\n",
    "save_bmp('/Users/sksx085/Desktop/各种实验报告等狗屎/数字图像处理/exp2/converted_image_equalized.bmp', header, equalized_pixel_data)\n",
    "\n",
    "#保存处理前的直方图\n",
    "plt.bar(range(256), original_histogram)\n",
    "plt.savefig('/Users/sksx085/Desktop/各种实验报告等狗屎/数字图像处理/exp2/original_histogram.png') \n",
    "\n",
    "#保存处理后的直方图\n",
    "plt.bar(range(256), equalized_histogram)\n",
    "plt.savefig('/Users/sksx085/Desktop/各种实验报告等狗屎/数字图像处理/exp2/equalized_histogram.png') "
   ]
  }
 ],
 "metadata": {
  "kernelspec": {
   "display_name": "base",
   "language": "python",
   "name": "python3"
  },
  "language_info": {
   "codemirror_mode": {
    "name": "ipython",
    "version": 3
   },
   "file_extension": ".py",
   "mimetype": "text/x-python",
   "name": "python",
   "nbconvert_exporter": "python",
   "pygments_lexer": "ipython3",
   "version": "3.11.4"
  }
 },
 "nbformat": 4,
 "nbformat_minor": 2
}
