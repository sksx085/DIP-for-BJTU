{
 "cells": [
  {
   "cell_type": "code",
   "execution_count": 1,
   "metadata": {},
   "outputs": [],
   "source": [
    "import numpy as np\n",
    "from PIL import Image"
   ]
  },
  {
   "cell_type": "code",
   "execution_count": 2,
   "metadata": {},
   "outputs": [],
   "source": [
    "def histogram_equalization(image_path, output_path):\n",
    "    # Load the image\n",
    "    img = Image.open(image_path)\n",
    "    \n",
    "    # Convert the image to a numpy array\n",
    "    img_array = np.array(img)\n",
    "    \n",
    "    # Flatten the array to 1D\n",
    "    flat_img_array = img_array.flatten()\n",
    "    \n",
    "    # Calculate the histogram\n",
    "    histogram = np.zeros(256, dtype=int)\n",
    "    for pixel in flat_img_array:\n",
    "        histogram[pixel] += 1\n",
    "    \n",
    "    # Calculate the CDF\n",
    "    cdf = histogram.cumsum()\n",
    "    cdf_normalized = (cdf - cdf.min()) * 255 / (cdf.max() - cdf.min())\n",
    "    cdf_normalized = cdf_normalized.astype(np.uint8)\n",
    "    \n",
    "    # Use the CDF to equalize the image\n",
    "    img_equalized_array = cdf_normalized[flat_img_array]\n",
    "    img_equalized_array = img_equalized_array.reshape(img_array.shape)\n",
    "    \n",
    "    # Convert the equalized array back to an image\n",
    "    img_equalized = Image.fromarray(img_equalized_array)\n",
    "    \n",
    "    # Save the equalized image\n",
    "    img_equalized.save(output_path)"
   ]
  },
  {
   "cell_type": "code",
   "execution_count": 3,
   "metadata": {},
   "outputs": [],
   "source": [
    "# The path to the input image and the output path for the equalized image\n",
    "input_image_path = '/Users/sksx085/Desktop/各种实验报告等狗屎/数字图像处理/converted_image.bmp'  # Replace with your image path\n",
    "output_image_path = '/Users/sksx085/Desktop/各种实验报告等狗屎/数字图像处理/exp2/output_image.bmp'  # Replace with your desired output path\n",
    "\n",
    "# Call the function with the path to the grayscale BMP image\n",
    "histogram_equalization(input_image_path, output_image_path)"
   ]
  }
 ],
 "metadata": {
  "kernelspec": {
   "display_name": "base",
   "language": "python",
   "name": "python3"
  },
  "language_info": {
   "codemirror_mode": {
    "name": "ipython",
    "version": 3
   },
   "file_extension": ".py",
   "mimetype": "text/x-python",
   "name": "python",
   "nbconvert_exporter": "python",
   "pygments_lexer": "ipython3",
   "version": "3.11.4"
  }
 },
 "nbformat": 4,
 "nbformat_minor": 2
}
